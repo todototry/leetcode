{
 "cells": [
  {
   "cell_type": "code",
   "execution_count": 3,
   "id": "ddc2ce5a",
   "metadata": {},
   "outputs": [
    {
     "ename": "SyntaxError",
     "evalue": "invalid syntax (<ipython-input-3-0f4385a7ba40>, line 7)",
     "output_type": "error",
     "traceback": [
      "\u001b[1;36m  File \u001b[1;32m\"<ipython-input-3-0f4385a7ba40>\"\u001b[1;36m, line \u001b[1;32m7\u001b[0m\n\u001b[1;33m    https://blog.csdn.net/gaoyu1253401563/article/details/90405223\u001b[0m\n\u001b[1;37m          ^\u001b[0m\n\u001b[1;31mSyntaxError\u001b[0m\u001b[1;31m:\u001b[0m invalid syntax\n"
     ]
    }
   ],
   "source": [
    "#刷题语言选择：https://www.geekclub.cc/2022/03/1461\n",
    "\n",
    "# python 刷题常用--数据结构\n",
    "# https://codeantenna.com/a/FIv4lZSy29\n",
    "\n",
    "# C++ 刷题-常用数据结构\n",
    "https://www.geekclub.cc/2022/03/1461\n",
    "# https://bbs.huaweicloud.com/blogs/328840\n",
    "\n",
    "https://blog.csdn.net/gaoyu1253401563/article/details/90405223"
   ]
  },
  {
   "cell_type": "code",
   "execution_count": 1,
   "id": "7f46cabf",
   "metadata": {},
   "outputs": [
    {
     "ename": "NameError",
     "evalue": "name 'ListNode' is not defined",
     "output_type": "error",
     "traceback": [
      "\u001b[1;31m---------------------------------------------------------------------------\u001b[0m",
      "\u001b[1;31mNameError\u001b[0m                                 Traceback (most recent call last)",
      "\u001b[1;32m<ipython-input-1-d3990af2894a>\u001b[0m in \u001b[0;36m<module>\u001b[1;34m\u001b[0m\n\u001b[1;32m----> 1\u001b[1;33m \u001b[0mhead\u001b[0m \u001b[1;33m=\u001b[0m \u001b[0mListNode\u001b[0m\u001b[1;33m(\u001b[0m\u001b[1;33m)\u001b[0m\u001b[1;33m\u001b[0m\u001b[1;33m\u001b[0m\u001b[0m\n\u001b[0m\u001b[0;32m      2\u001b[0m \u001b[0mhead\u001b[0m\u001b[1;33m.\u001b[0m\u001b[0mnext\u001b[0m \u001b[1;33m=\u001b[0m \u001b[0mListNode\u001b[0m\u001b[1;33m(\u001b[0m\u001b[0mval\u001b[0m\u001b[1;33m)\u001b[0m\u001b[1;33m\u001b[0m\u001b[1;33m\u001b[0m\u001b[0m\n",
      "\u001b[1;31mNameError\u001b[0m: name 'ListNode' is not defined"
     ]
    }
   ],
   "source": [
    "head = ListNode()\n",
    "head.next = ListNode(val)"
   ]
  },
  {
   "cell_type": "code",
   "execution_count": null,
   "id": "2155057f",
   "metadata": {},
   "outputs": [],
   "source": []
  }
 ],
 "metadata": {
  "kernelspec": {
   "display_name": "Python 3",
   "language": "python",
   "name": "python3"
  },
  "language_info": {
   "codemirror_mode": {
    "name": "ipython",
    "version": 3
   },
   "file_extension": ".py",
   "mimetype": "text/x-python",
   "name": "python",
   "nbconvert_exporter": "python",
   "pygments_lexer": "ipython3",
   "version": "3.8.5"
  }
 },
 "nbformat": 4,
 "nbformat_minor": 5
}
